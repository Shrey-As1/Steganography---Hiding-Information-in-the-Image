{
 "cells": [
  {
   "cell_type": "code",
   "execution_count": 1,
   "id": "9b038534-98fc-4053-85e3-81fefa3cbdb8",
   "metadata": {},
   "outputs": [
    {
     "name": "stdout",
     "output_type": "stream",
     "text": [
      "Requirement already satisfied: pillow in c:\\users\\kiit0001\\desktop\\downloads\\lib\\site-packages (10.4.0)\n",
      "Note: you may need to restart the kernel to use updated packages.\n"
     ]
    }
   ],
   "source": [
    "pip install pillow\n"
   ]
  },
  {
   "cell_type": "code",
   "execution_count": 4,
   "id": "06f25ad4-ee38-407b-9e8d-78ec10ed7452",
   "metadata": {},
   "outputs": [
    {
     "name": "stdout",
     "output_type": "stream",
     "text": [
      "\n",
      "🔐 Welcome to Steganography Tool\n",
      "1. Encode message\n",
      "2. Decode message\n"
     ]
    },
    {
     "name": "stdin",
     "output_type": "stream",
     "text": [
      "Choose (1/2):  1\n",
      "Enter input image path (e.g., original.png):  Untitled 1.png\n",
      "Enter secret message:  HELLO CS\n",
      "Enter output image filename (e.g., hidden.png):  Untitled.png\n"
     ]
    },
    {
     "name": "stdout",
     "output_type": "stream",
     "text": [
      "✅ Message successfully hidden in: Untitled.png\n"
     ]
    }
   ],
   "source": [
    "from PIL import Image\n",
    "\n",
    "# End delimiter\n",
    "END_MARKER = \"###END###\"\n",
    "\n",
    "# Convert text to binary\n",
    "def text_to_binary(text):\n",
    "    text += END_MARKER\n",
    "    return ''.join(format(ord(char), '08b') for char in text)\n",
    "\n",
    "# Convert binary back to text\n",
    "def binary_to_text(binary_data):\n",
    "    chars = [chr(int(binary_data[i:i+8], 2)) for i in range(0, len(binary_data), 8)]\n",
    "    full_text = ''.join(chars)\n",
    "    return full_text.split(END_MARKER)[0]\n",
    "\n",
    "# Hide secret message in image\n",
    "def hide_message(input_img_path, message, output_img_path):\n",
    "    image = Image.open(input_img_path).convert(\"RGB\")\n",
    "    binary_msg = text_to_binary(message)\n",
    "    pixels = list(image.getdata())\n",
    "    \n",
    "    if len(binary_msg) > len(pixels) * 3:\n",
    "        print(\"❌ Message too long to encode in this image.\")\n",
    "        return\n",
    "\n",
    "    new_pixels = []\n",
    "    index = 0\n",
    "\n",
    "    for pixel in pixels:\n",
    "        r, g, b = pixel\n",
    "        if index < len(binary_msg):\n",
    "            r = (r & ~1) | int(binary_msg[index])\n",
    "            index += 1\n",
    "        if index < len(binary_msg):\n",
    "            g = (g & ~1) | int(binary_msg[index])\n",
    "            index += 1\n",
    "        if index < len(binary_msg):\n",
    "            b = (b & ~1) | int(binary_msg[index])\n",
    "            index += 1\n",
    "        new_pixels.append((r, g, b))\n",
    "\n",
    "    encoded_image = Image.new(\"RGB\", image.size)\n",
    "    encoded_image.putdata(new_pixels)\n",
    "    encoded_image.save(output_img_path)\n",
    "    print(f\"✅ Message successfully hidden in: {output_img_path}\")\n",
    "\n",
    "# Extract message from stego image\n",
    "def reveal_message(stego_image_path):\n",
    "    image = Image.open(stego_image_path).convert(\"RGB\")\n",
    "    pixels = list(image.getdata())\n",
    "    binary_data = \"\"\n",
    "\n",
    "    for pixel in pixels:\n",
    "        for color in pixel[:3]:  # Only RGB\n",
    "            binary_data += str(color & 1)\n",
    "\n",
    "    hidden_message = binary_to_text(binary_data)\n",
    "    print(\"🔓 Hidden message found:\")\n",
    "    print(hidden_message)\n",
    "\n",
    "# Main CLI interface\n",
    "def main():\n",
    "    print(\"\\n🔐 Welcome to Steganography Tool\")\n",
    "    print(\"1. Encode message\")\n",
    "    print(\"2. Decode message\")\n",
    "    choice = input(\"Choose (1/2): \").strip()\n",
    "\n",
    "    if choice == \"1\":\n",
    "        input_img = input(\"Enter input image path (e.g., original.png): \")\n",
    "        secret_msg = input(\"Enter secret message: \")\n",
    "        output_img = input(\"Enter output image filename (e.g., hidden.png): \")\n",
    "        hide_message(input_img, secret_msg, output_img)\n",
    "\n",
    "    elif choice == \"2\":\n",
    "        stego_img = input(\"Enter stego image path (with hidden message): \")\n",
    "        reveal_message(stego_img)\n",
    "\n",
    "    else:\n",
    "        print(\"❌ Invalid input. Exiting.\")\n",
    "\n",
    "# Call main\n",
    "if __name__ == \"__main__\":\n",
    "    main()\n"
   ]
  },
  {
   "cell_type": "code",
   "execution_count": 5,
   "id": "55cd7e44-4faf-426a-9128-2487577584ae",
   "metadata": {},
   "outputs": [
    {
     "name": "stdout",
     "output_type": "stream",
     "text": [
      "\n",
      "🔐 Welcome to Steganography Tool\n",
      "1. Encode message\n",
      "2. Decode message\n"
     ]
    },
    {
     "name": "stdin",
     "output_type": "stream",
     "text": [
      "Choose (1/2):  2\n",
      "Enter stego image path (with hidden message):  Untitled.png\n"
     ]
    },
    {
     "name": "stdout",
     "output_type": "stream",
     "text": [
      "🔓 Hidden message found:\n",
      "HELLO CS\n"
     ]
    }
   ],
   "source": [
    "from PIL import Image\n",
    "\n",
    "# End delimiter\n",
    "END_MARKER = \"###END###\"\n",
    "\n",
    "# Convert text to binary\n",
    "def text_to_binary(text):\n",
    "    text += END_MARKER\n",
    "    return ''.join(format(ord(char), '08b') for char in text)\n",
    "\n",
    "# Convert binary back to text\n",
    "def binary_to_text(binary_data):\n",
    "    chars = [chr(int(binary_data[i:i+8], 2)) for i in range(0, len(binary_data), 8)]\n",
    "    full_text = ''.join(chars)\n",
    "    return full_text.split(END_MARKER)[0]\n",
    "\n",
    "# Hide secret message in image\n",
    "def hide_message(input_img_path, message, output_img_path):\n",
    "    image = Image.open(input_img_path).convert(\"RGB\")\n",
    "    binary_msg = text_to_binary(message)\n",
    "    pixels = list(image.getdata())\n",
    "    \n",
    "    if len(binary_msg) > len(pixels) * 3:\n",
    "        print(\"❌ Message too long to encode in this image.\")\n",
    "        return\n",
    "\n",
    "    new_pixels = []\n",
    "    index = 0\n",
    "\n",
    "    for pixel in pixels:\n",
    "        r, g, b = pixel\n",
    "        if index < len(binary_msg):\n",
    "            r = (r & ~1) | int(binary_msg[index])\n",
    "            index += 1\n",
    "        if index < len(binary_msg):\n",
    "            g = (g & ~1) | int(binary_msg[index])\n",
    "            index += 1\n",
    "        if index < len(binary_msg):\n",
    "            b = (b & ~1) | int(binary_msg[index])\n",
    "            index += 1\n",
    "        new_pixels.append((r, g, b))\n",
    "\n",
    "    encoded_image = Image.new(\"RGB\", image.size)\n",
    "    encoded_image.putdata(new_pixels)\n",
    "    encoded_image.save(output_img_path)\n",
    "    print(f\"✅ Message successfully hidden in: {output_img_path}\")\n",
    "\n",
    "# Extract message from stego image\n",
    "def reveal_message(stego_image_path):\n",
    "    image = Image.open(stego_image_path).convert(\"RGB\")\n",
    "    pixels = list(image.getdata())\n",
    "    binary_data = \"\"\n",
    "\n",
    "    for pixel in pixels:\n",
    "        for color in pixel[:3]:  # Only RGB\n",
    "            binary_data += str(color & 1)\n",
    "\n",
    "    hidden_message = binary_to_text(binary_data)\n",
    "    print(\"🔓 Hidden message found:\")\n",
    "    print(hidden_message)\n",
    "\n",
    "# Main CLI interface\n",
    "def main():\n",
    "    print(\"\\n🔐 Welcome to Steganography Tool\")\n",
    "    print(\"1. Encode message\")\n",
    "    print(\"2. Decode message\")\n",
    "    choice = input(\"Choose (1/2): \").strip()\n",
    "\n",
    "    if choice == \"1\":\n",
    "        input_img = input(\"Enter input image path (e.g., original.png): \")\n",
    "        secret_msg = input(\"Enter secret message: \")\n",
    "        output_img = input(\"Enter output image filename (e.g., hidden.png): \")\n",
    "        hide_message(input_img, secret_msg, output_img)\n",
    "\n",
    "    elif choice == \"2\":\n",
    "        stego_img = input(\"Enter stego image path (with hidden message): \")\n",
    "        reveal_message(stego_img)\n",
    "\n",
    "    else:\n",
    "        print(\"❌ Invalid input. Exiting.\")\n",
    "\n",
    "# Call main\n",
    "if __name__ == \"__main__\":\n",
    "    main()\n"
   ]
  },
  {
   "cell_type": "code",
   "execution_count": null,
   "id": "21d67b95-31e2-412c-84bb-7030537f5278",
   "metadata": {},
   "outputs": [],
   "source": []
  }
 ],
 "metadata": {
  "kernelspec": {
   "display_name": "Python 3 (ipykernel)",
   "language": "python",
   "name": "python3"
  },
  "language_info": {
   "codemirror_mode": {
    "name": "ipython",
    "version": 3
   },
   "file_extension": ".py",
   "mimetype": "text/x-python",
   "name": "python",
   "nbconvert_exporter": "python",
   "pygments_lexer": "ipython3",
   "version": "3.12.7"
  }
 },
 "nbformat": 4,
 "nbformat_minor": 5
}
